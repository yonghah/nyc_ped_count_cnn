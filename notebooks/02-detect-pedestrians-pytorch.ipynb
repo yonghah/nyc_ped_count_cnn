{
 "cells": [
  {
   "cell_type": "code",
   "execution_count": 1,
   "metadata": {},
   "outputs": [
    {
     "data": {
      "text/plain": [
       "True"
      ]
     },
     "execution_count": 1,
     "metadata": {},
     "output_type": "execute_result"
    }
   ],
   "source": [
    "import sys\n",
    "sys.path.append(\"../src\")\n",
    "import os\n",
    "import glob\n",
    "import matplotlib.pyplot as plt\n",
    "import pandas as pd\n",
    "from PIL import Image\n",
    "\n",
    "import transform as T\n",
    "import torch\n",
    "import torchvision\n",
    "from torchvision.models.detection.faster_rcnn import FastRCNNPredictor\n",
    "\n",
    "torch.cuda.is_available()"
   ]
  },
  {
   "cell_type": "markdown",
   "metadata": {},
   "source": [
    "# load a model \n",
    "pre-trained on COCO, resnet 50"
   ]
  },
  {
   "cell_type": "code",
   "execution_count": 2,
   "metadata": {},
   "outputs": [],
   "source": [
    "model = torchvision.models.detection.fasterrcnn_resnet50_fpn(pretrained=True)\n",
    "device = torch.device('cuda')\n",
    "model.to(device)\n",
    "_ = model.eval()"
   ]
  },
  {
   "cell_type": "code",
   "execution_count": 3,
   "metadata": {},
   "outputs": [],
   "source": [
    "# functions\n",
    "\n",
    "def get_prediction(image_path, model, threshold=0.2):\n",
    "    \n",
    "    # convert image\n",
    "    img = Image.open(image_path)\n",
    "    transform = T.Compose([T.ToTensor()])\n",
    "    img, _ = transform(img, {})\n",
    "    \n",
    "    # forward\n",
    "    pred = model([img.cuda()])\n",
    "    \n",
    "    # process result\n",
    "    is_people = (pred[0]['labels'] == 1) & ((pred[0]['scores'] > threshold))\n",
    "    box = [[i[0][0], i[0][1], i[0][2], i[0][3]] for i in list(pred[0]['boxes'][torch.nonzero(is_people)].detach().cpu() .numpy())]\n",
    "    score = list(pred[0]['scores'][torch.nonzero(is_people)].flatten().detach().cpu().numpy())\n",
    "    \n",
    "    return box, score, img\n",
    "\n",
    "\n",
    "def vis_detections(im, boxes, scores, saveas=None):\n",
    "    \"\"\"Draw detected bounding boxes.\"\"\"\n",
    "    im = Image.fromarray(im.mul(255).permute(1, 2, 0).byte().numpy())\n",
    "    fig, ax = plt.subplots(figsize=(12, 12))\n",
    "    ax.imshow(im, aspect='equal')\n",
    "    for i, bbox in enumerate(boxes):\n",
    "        ax.add_patch(\n",
    "            plt.Rectangle((bbox[0], bbox[1]),\n",
    "                          bbox[2] - bbox[0],\n",
    "                          bbox[3] - bbox[1],\n",
    "                          fill=False,\n",
    "                          edgecolor='red',\n",
    "                          linewidth=3.5))\n",
    "        ax.text(\n",
    "            bbox[0],\n",
    "            bbox[1] - 2,\n",
    "            '{:.3f}'.format(scores[i]),\n",
    "            fontsize=14,\n",
    "            color='white')\n",
    "    plt.axis('off')\n",
    "    plt.tight_layout()\n",
    "    if saveas:\n",
    "        plt.savefig(saveas)\n",
    "        plt.close()\n",
    "    else:\n",
    "        plt.draw()\n",
    "\n",
    "def run_detect(image_path, model, outdir=\"../data/annotation\"):\n",
    "    box, score, img = get_prediction(image_path, model)\n",
    "    image_name = image_path.split('/')[-1]\n",
    "    result = {'image': image_name, 'exp': sum(score)}\n",
    "    vis_detections(img, box, score, saveas=os.path.join(outdir, 'anno_' + image_name))\n",
    "    return result"
   ]
  },
  {
   "cell_type": "markdown",
   "metadata": {},
   "source": [
    "# Read image paths"
   ]
  },
  {
   "cell_type": "code",
   "execution_count": 4,
   "metadata": {},
   "outputs": [],
   "source": [
    "image_dir = \"../data/gsv\"\n",
    "images = [img_path for img_path in \\\n",
    "          glob.glob(image_dir+'/*.jpg')]"
   ]
  },
  {
   "cell_type": "markdown",
   "metadata": {},
   "source": [
    "## Test with one image"
   ]
  },
  {
   "cell_type": "code",
   "execution_count": 5,
   "metadata": {},
   "outputs": [
    {
     "data": {
      "text/plain": [
       "{'image': 'image_23_80.jpg', 'exp': 4.975166320800781}"
      ]
     },
     "execution_count": 5,
     "metadata": {},
     "output_type": "execute_result"
    }
   ],
   "source": [
    "run_detect(images[0], model)"
   ]
  },
  {
   "cell_type": "markdown",
   "metadata": {},
   "source": [
    "# Run all images"
   ]
  },
  {
   "cell_type": "code",
   "execution_count": 6,
   "metadata": {},
   "outputs": [],
   "source": [
    "results = list(map(lambda x: run_detect(x, model), images))"
   ]
  },
  {
   "cell_type": "code",
   "execution_count": 18,
   "metadata": {},
   "outputs": [],
   "source": [
    "df = pd.DataFrame.from_records(results)\n",
    "df.columns = ['image', 'score']\n",
    "df['lid'] = df['image'].str.split('_').str[1]"
   ]
  },
  {
   "cell_type": "code",
   "execution_count": 19,
   "metadata": {},
   "outputs": [],
   "source": [
    "df.to_csv(\"../data/dataframe/nyc-cnn-exp.csv\", index=False)"
   ]
  }
 ],
 "metadata": {
  "kernelspec": {
   "display_name": "Python 3",
   "language": "python",
   "name": "python3"
  },
  "language_info": {
   "codemirror_mode": {
    "name": "ipython",
    "version": 3
   },
   "file_extension": ".py",
   "mimetype": "text/x-python",
   "name": "python",
   "nbconvert_exporter": "python",
   "pygments_lexer": "ipython3",
   "version": "3.7.6"
  }
 },
 "nbformat": 4,
 "nbformat_minor": 4
}
