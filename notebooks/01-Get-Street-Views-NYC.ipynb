{
 "cells": [
  {
   "cell_type": "markdown",
   "metadata": {},
   "source": [
    "# Get Bi-Annual Pedestrian Counts from NYC\n",
    "\n",
    "We are going to use the New York City pedestrian count data to verify the feasibility of using CNN for measuring pedestrian volume. For NYC pedestrian data see below:\n",
    "\n",
    "> An index of pedestrian volumes tracking the long-term trends of neighborhood commercial corridors. Data is collected at 114 locations, including 100 on-street locations (primarily retail corridors), 13 East River and Harlem River bridge locations, and the Hudson River Greenway. Screenline sampling is conducted during May and September on the sidewalk, mid-block (or mid-bridge) on both sides of street where applicable. Pedestrian volumes at 50 sample locations around the City are combined to create the Pedestrian Volume Index for the Mayor’s Management Report. Click here for metadata - http://www.nyc.gov/html/dot/downloads/pdf/bi-annual-ped-count-readme.pdf\n",
    "\n",
    "> from https://data.cityofnewyork.us/Transportation/Bi-Annual-Pedestrian-Counts/2de2-6x2h/about\n"
   ]
  },
  {
   "cell_type": "markdown",
   "metadata": {},
   "source": [
    "## import libraries"
   ]
  },
  {
   "cell_type": "code",
   "execution_count": 1,
   "metadata": {},
   "outputs": [],
   "source": [
    "import os\n",
    "import glob\n",
    "\n",
    "import matplotlib.pyplot as plt\n",
    "import matplotlib.image as mpimg\n",
    "\n",
    "import pandas as pd\n",
    "import geopandas as gpd\n",
    "import streetscape as ss\n",
    "from shapely.geometry import Point\n",
    "\n",
    "import nest_asyncio  # required for jupyter\n",
    "nest_asyncio.apply()"
   ]
  },
  {
   "cell_type": "markdown",
   "metadata": {},
   "source": [
    "## get the dataset from NYC open data"
   ]
  },
  {
   "cell_type": "code",
   "execution_count": 2,
   "metadata": {},
   "outputs": [
    {
     "data": {
      "text/html": [
       "<div>\n",
       "<style scoped>\n",
       "    .dataframe tbody tr th:only-of-type {\n",
       "        vertical-align: middle;\n",
       "    }\n",
       "\n",
       "    .dataframe tbody tr th {\n",
       "        vertical-align: top;\n",
       "    }\n",
       "\n",
       "    .dataframe thead th {\n",
       "        text-align: right;\n",
       "    }\n",
       "</style>\n",
       "<table border=\"1\" class=\"dataframe\">\n",
       "  <thead>\n",
       "    <tr style=\"text-align: right;\">\n",
       "      <th></th>\n",
       "      <th>borough</th>\n",
       "      <th>the_geom</th>\n",
       "      <th>objectid</th>\n",
       "      <th>loc</th>\n",
       "      <th>street_nam</th>\n",
       "      <th>from_stree</th>\n",
       "      <th>to_street</th>\n",
       "      <th>index</th>\n",
       "      <th>may_07_am</th>\n",
       "      <th>may_07_pm</th>\n",
       "      <th>...</th>\n",
       "      <th>sept_17_pm</th>\n",
       "      <th>sept_17_md</th>\n",
       "      <th>may_18_am</th>\n",
       "      <th>may_18_pm</th>\n",
       "      <th>may_18_md</th>\n",
       "      <th>sept_18_pm</th>\n",
       "      <th>sept_18_md</th>\n",
       "      <th>may_19_am</th>\n",
       "      <th>may_19_pm</th>\n",
       "      <th>may_19_md</th>\n",
       "    </tr>\n",
       "  </thead>\n",
       "  <tbody>\n",
       "    <tr>\n",
       "      <th>0</th>\n",
       "      <td>Bronx</td>\n",
       "      <td>{'type': 'Point', 'coordinates': [-73.90459140...</td>\n",
       "      <td>1</td>\n",
       "      <td>1</td>\n",
       "      <td>Broadway</td>\n",
       "      <td>West 231st Street</td>\n",
       "      <td>Naples Terrace</td>\n",
       "      <td>N</td>\n",
       "      <td>1189</td>\n",
       "      <td>4094</td>\n",
       "      <td>...</td>\n",
       "      <td>4,044</td>\n",
       "      <td>2,731</td>\n",
       "      <td>1,271</td>\n",
       "      <td>4,502</td>\n",
       "      <td>2,899</td>\n",
       "      <td>4,464</td>\n",
       "      <td>2,967</td>\n",
       "      <td>-</td>\n",
       "      <td>-</td>\n",
       "      <td>-</td>\n",
       "    </tr>\n",
       "    <tr>\n",
       "      <th>1</th>\n",
       "      <td>Bronx</td>\n",
       "      <td>{'type': 'Point', 'coordinates': [-73.92188432...</td>\n",
       "      <td>2</td>\n",
       "      <td>2</td>\n",
       "      <td>East 161st Street</td>\n",
       "      <td>Grand Concourse</td>\n",
       "      <td>Sheridan Avenue</td>\n",
       "      <td>Y</td>\n",
       "      <td>1511</td>\n",
       "      <td>3184</td>\n",
       "      <td>...</td>\n",
       "      <td>5,952</td>\n",
       "      <td>2,832</td>\n",
       "      <td>1,749</td>\n",
       "      <td>5,148</td>\n",
       "      <td>2,156</td>\n",
       "      <td>4,723</td>\n",
       "      <td>1,604</td>\n",
       "      <td>1,702</td>\n",
       "      <td>4,347</td>\n",
       "      <td>1,576</td>\n",
       "    </tr>\n",
       "    <tr>\n",
       "      <th>2</th>\n",
       "      <td>Bronx</td>\n",
       "      <td>{'type': 'Point', 'coordinates': [-73.89535781...</td>\n",
       "      <td>3</td>\n",
       "      <td>3</td>\n",
       "      <td>East Fordham Road</td>\n",
       "      <td>Valentine Avenue</td>\n",
       "      <td>Tiebout Avenue</td>\n",
       "      <td>Y</td>\n",
       "      <td>1832</td>\n",
       "      <td>12311</td>\n",
       "      <td>...</td>\n",
       "      <td>12,388</td>\n",
       "      <td>7,076</td>\n",
       "      <td>2,209</td>\n",
       "      <td>9,634</td>\n",
       "      <td>7,066</td>\n",
       "      <td>8,931</td>\n",
       "      <td>6,212</td>\n",
       "      <td>1,625</td>\n",
       "      <td>11,739</td>\n",
       "      <td>7,468</td>\n",
       "    </tr>\n",
       "    <tr>\n",
       "      <th>3</th>\n",
       "      <td>Bronx</td>\n",
       "      <td>{'type': 'Point', 'coordinates': [-73.87892467...</td>\n",
       "      <td>4</td>\n",
       "      <td>4</td>\n",
       "      <td>East Gun Hill Road</td>\n",
       "      <td>Bainbridge Avenue</td>\n",
       "      <td>Rochambeau Avenue</td>\n",
       "      <td>N</td>\n",
       "      <td>764</td>\n",
       "      <td>2673</td>\n",
       "      <td>...</td>\n",
       "      <td>3,429</td>\n",
       "      <td>1,551</td>\n",
       "      <td>1,648</td>\n",
       "      <td>2,892</td>\n",
       "      <td>1,323</td>\n",
       "      <td>2,682</td>\n",
       "      <td>1,693</td>\n",
       "      <td>-</td>\n",
       "      <td>-</td>\n",
       "      <td>-</td>\n",
       "    </tr>\n",
       "    <tr>\n",
       "      <th>4</th>\n",
       "      <td>Bronx</td>\n",
       "      <td>{'type': 'Point', 'coordinates': [-73.88956389...</td>\n",
       "      <td>5</td>\n",
       "      <td>5</td>\n",
       "      <td>East Tremont Avenue</td>\n",
       "      <td>Prospect Avenue</td>\n",
       "      <td>Clinton Avenue</td>\n",
       "      <td>N</td>\n",
       "      <td>650</td>\n",
       "      <td>2538</td>\n",
       "      <td>...</td>\n",
       "      <td>3,330</td>\n",
       "      <td>2,479</td>\n",
       "      <td>1,016</td>\n",
       "      <td>3,781</td>\n",
       "      <td>2,565</td>\n",
       "      <td>3,761</td>\n",
       "      <td>2,461</td>\n",
       "      <td>-</td>\n",
       "      <td>-</td>\n",
       "      <td>-</td>\n",
       "    </tr>\n",
       "  </tbody>\n",
       "</table>\n",
       "<p>5 rows × 82 columns</p>\n",
       "</div>"
      ],
      "text/plain": [
       "  borough                                           the_geom  objectid  loc  \\\n",
       "0   Bronx  {'type': 'Point', 'coordinates': [-73.90459140...         1    1   \n",
       "1   Bronx  {'type': 'Point', 'coordinates': [-73.92188432...         2    2   \n",
       "2   Bronx  {'type': 'Point', 'coordinates': [-73.89535781...         3    3   \n",
       "3   Bronx  {'type': 'Point', 'coordinates': [-73.87892467...         4    4   \n",
       "4   Bronx  {'type': 'Point', 'coordinates': [-73.88956389...         5    5   \n",
       "\n",
       "            street_nam         from_stree          to_street index may_07_am  \\\n",
       "0             Broadway  West 231st Street     Naples Terrace     N      1189   \n",
       "1    East 161st Street    Grand Concourse    Sheridan Avenue     Y      1511   \n",
       "2    East Fordham Road   Valentine Avenue     Tiebout Avenue     Y      1832   \n",
       "3   East Gun Hill Road  Bainbridge Avenue  Rochambeau Avenue     N       764   \n",
       "4  East Tremont Avenue    Prospect Avenue     Clinton Avenue     N       650   \n",
       "\n",
       "  may_07_pm  ... sept_17_pm sept_17_md may_18_am may_18_pm may_18_md  \\\n",
       "0      4094  ...      4,044      2,731     1,271     4,502     2,899   \n",
       "1      3184  ...      5,952      2,832     1,749     5,148     2,156   \n",
       "2     12311  ...     12,388      7,076     2,209     9,634     7,066   \n",
       "3      2673  ...      3,429      1,551     1,648     2,892     1,323   \n",
       "4      2538  ...      3,330      2,479     1,016     3,781     2,565   \n",
       "\n",
       "  sept_18_pm sept_18_md may_19_am may_19_pm may_19_md  \n",
       "0      4,464      2,967         -         -         -  \n",
       "1      4,723      1,604     1,702     4,347     1,576  \n",
       "2      8,931      6,212     1,625    11,739     7,468  \n",
       "3      2,682      1,693         -         -         -  \n",
       "4      3,761      2,461         -         -         -  \n",
       "\n",
       "[5 rows x 82 columns]"
      ]
     },
     "execution_count": 2,
     "metadata": {},
     "output_type": "execute_result"
    }
   ],
   "source": [
    "query = (\"https://data.cityofnewyork.us/resource/cqsj-cfgu.json\")\n",
    "df = pd.read_json(query)\n",
    "df.head()"
   ]
  },
  {
   "cell_type": "code",
   "execution_count": 3,
   "metadata": {},
   "outputs": [
    {
     "data": {
      "text/plain": [
       "114"
      ]
     },
     "execution_count": 3,
     "metadata": {},
     "output_type": "execute_result"
    }
   ],
   "source": [
    "# total number of locations\n",
    "len(df['loc'].unique())"
   ]
  },
  {
   "cell_type": "markdown",
   "metadata": {},
   "source": [
    "## Convert to Geographic format\n",
    "This dataset's geometry is json format. Let's convert this to shapely format to utilize streetscape."
   ]
  },
  {
   "cell_type": "code",
   "execution_count": 4,
   "metadata": {},
   "outputs": [],
   "source": [
    "df['geometry']  = df['the_geom'].apply(lambda r: Point(r['coordinates']))\n",
    "df['pano_id'] = None\n",
    "df['indexed'] = df['index']\n",
    "df['index'] = df['loc']"
   ]
  },
  {
   "cell_type": "code",
   "execution_count": 10,
   "metadata": {},
   "outputs": [
    {
     "data": {
      "text/plain": [
       "<matplotlib.axes._subplots.AxesSubplot at 0x7f78c8574cd0>"
      ]
     },
     "execution_count": 10,
     "metadata": {},
     "output_type": "execute_result"
    },
    {
     "data": {
      "image/png": "[encoded data removed]",
      "text/plain": [
       "<Figure size 432x288 with 1 Axes>"
      ]
     },
     "metadata": {
      "needs_background": "light"
     },
     "output_type": "display_data"
    }
   ],
   "source": [
    "gdf = gpd.GeoDataFrame(df)\n",
    "gdf.to_file(\"../data/nyc_location/nyc_location.geojson\")\n",
    "gdf.plot()"
   ]
  },
  {
   "cell_type": "markdown",
   "metadata": {},
   "source": [
    "## Get street view images\n",
    "- 18 images per one location (FOV=20) with 2 degree overlap\n",
    "- 600px X 600px\n",
    "- saved under ../data/gsv"
   ]
  },
  {
   "cell_type": "code",
   "execution_count": 7,
   "metadata": {},
   "outputs": [
    {
     "name": "stdout",
     "output_type": "stream",
     "text": [
      "Total 2052 urls created.\n"
     ]
    }
   ],
   "source": [
    "di = ss.make_gsv_urls(df, npics=18, size=600, pad=2)"
   ]
  },
  {
   "cell_type": "code",
   "execution_count": 11,
   "metadata": {},
   "outputs": [],
   "source": [
    "ss.download_gsvs(di, save_dir='../data/gsv')"
   ]
  },
  {
   "cell_type": "markdown",
   "metadata": {},
   "source": [
    "## Retrieve Metadata\n",
    "\n",
    "We want to know when the GSVs are taken."
   ]
  },
  {
   "cell_type": "code",
   "execution_count": 23,
   "metadata": {},
   "outputs": [],
   "source": [
    "def metadata_url(obs_point):\n",
    "        ''' construct a url for retrieving gsv metadata \n",
    "        at obs point location'''\n",
    "        lat = obs_point.geometry.y\n",
    "        lng = obs_point.geometry.x\n",
    "        base = \"https://maps.googleapis.com/maps/api/streetview/metadata?\"\n",
    "        latlng = \"location={},{}\".format(lat, lng)\n",
    "        source = \"source=outdoor\"\n",
    "        url = \"{}&{}&{}\".format(base, latlng, source)\n",
    "        return url\n",
    "    \n",
    "df['metadata_url'] = df.apply(metadata_url, axis=1)"
   ]
  },
  {
   "cell_type": "code",
   "execution_count": 25,
   "metadata": {},
   "outputs": [],
   "source": [
    "responses = ss.retrieve_metadata(df, 50, 10, 0)"
   ]
  },
  {
   "cell_type": "code",
   "execution_count": 31,
   "metadata": {},
   "outputs": [
    {
     "data": {
      "text/plain": [
       "2007-09     1\n",
       "2014-07     2\n",
       "2014-08     1\n",
       "2016-07     1\n",
       "2016-10     1\n",
       "2017-05     1\n",
       "2017-07     1\n",
       "2017-09     1\n",
       "2017-11     1\n",
       "2017-12     4\n",
       "2018-05     3\n",
       "2018-06     4\n",
       "2018-07     6\n",
       "2018-08     9\n",
       "2018-09     2\n",
       "2018-10     3\n",
       "2019-05     9\n",
       "2019-06    28\n",
       "2019-07    16\n",
       "2019-08    15\n",
       "2019-09     4\n",
       "2019-10     1\n",
       "Name: date, dtype: int64"
      ]
     },
     "execution_count": 31,
     "metadata": {},
     "output_type": "execute_result"
    }
   ],
   "source": [
    "res_df = pd.DataFrame.from_records(responses)\n",
    "res_df['date'].value_counts().sort_index()"
   ]
  },
  {
   "cell_type": "markdown",
   "metadata": {},
   "source": [
    "Mostly taken in 2018 and 2019."
   ]
  }
 ],
 "metadata": {
  "anaconda-cloud": {},
  "kernelspec": {
   "display_name": "Python 3",
   "language": "python",
   "name": "python3"
  },
  "language_info": {
   "codemirror_mode": {
    "name": "ipython",
    "version": 3
   },
   "file_extension": ".py",
   "mimetype": "text/x-python",
   "name": "python",
   "nbconvert_exporter": "python",
   "pygments_lexer": "ipython3",
   "version": "3.6.4"
  }
 },
 "nbformat": 4,
 "nbformat_minor": 4
}
